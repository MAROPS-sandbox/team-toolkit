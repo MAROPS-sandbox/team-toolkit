{
 "cells": [
  {
   "cell_type": "markdown",
   "metadata": {},
   "source": [
    "## ORI"
   ]
  },
  {
   "cell_type": "code",
   "execution_count": 1,
   "metadata": {
    "collapsed": true
   },
   "outputs": [],
   "source": [
    "from   mpl_toolkits.basemap import Basemap, cm\n",
    "import cmocean as cm\n",
    "from matplotlib.pyplot import figure\n",
    "import pandas as pd\n",
    "import netCDF4\n",
    "import numpy as np\n",
    "import datetime\n",
    "from datetime import timedelta\n",
    "import glob\n",
    "import matplotlib.pyplot as plt\n",
    "from math import sin, cos, sqrt, atan2, radians\n",
    "from geopy.distance import great_circle as dist\n",
    "import geopy \n",
    "from matplotlib.path import Path"
   ]
  },
  {
   "cell_type": "code",
   "execution_count": 40,
   "metadata": {},
   "outputs": [],
   "source": [
    "site = netCDF4.Dataset(\"/Users/hart-davis/Desktop/Scripts/ORI/LARVAE_Forward_Blood.nc\")\n",
    "lat = site.variables[\"lat\"][:,:]\n",
    "lon = site.variables[\"lon\"][:,:]\n",
    "   \n",
    "count = []\n",
    "for x in range(0,len(lat)):\n",
    "    lat = site.variables[\"lat\"][x,:]\n",
    "    lon = site.variables[\"lon\"][x,:]\n",
    "    \n",
    "    both = np.vstack((lat,lon))\n",
    "\n",
    "    la = []\n",
    "    lo = []\n",
    "    \n",
    "    for w in range(0, 1):\n",
    "        x = np.where(((both[0] >= -30) & (both[0] <= -10) & (both[1] >= 20) & (both[1] <= 50)))\n",
    "\n",
    "    p = Path([(20,-45), (20,-40), (40,-30), (40,-45)])\n",
    "\n",
    "    InPolygon = np.zeros(len(lon))\n",
    "\n",
    "    for ii in range(0,len(lon),1):\n",
    "        if p.contains_points([(lon[ii], lat[ii])]):\n",
    "            InPolygon[ii] = 1\n",
    "        else:\n",
    "            InPolygon[ii] = 0\n",
    "    \n",
    "    a = np.count_nonzero(InPolygon)\n",
    "    count.append(a)"
   ]
  },
  {
   "cell_type": "code",
   "execution_count": 42,
   "metadata": {},
   "outputs": [
    {
     "data": {
      "text/plain": [
       "167916"
      ]
     },
     "execution_count": 42,
     "metadata": {},
     "output_type": "execute_result"
    }
   ],
   "source": [
    "np.sum(count)"
   ]
  },
  {
   "cell_type": "code",
   "execution_count": 51,
   "metadata": {},
   "outputs": [],
   "source": [
    "lat = site.variables[\"lat\"][:,:]\n",
    "lon = site.variables[\"lon\"][:,:]"
   ]
  },
  {
   "cell_type": "code",
   "execution_count": 52,
   "metadata": {},
   "outputs": [
    {
     "data": {
      "text/plain": [
       "961"
      ]
     },
     "execution_count": 52,
     "metadata": {},
     "output_type": "execute_result"
    }
   ],
   "source": [
    "len(lat[:,0])"
   ]
  },
  {
   "cell_type": "code",
   "execution_count": 56,
   "metadata": {},
   "outputs": [
    {
     "data": {
      "text/plain": [
       "Path(array([[ 20., -45.],\n",
       "       [ 20., -40.],\n",
       "       [ 40., -30.],\n",
       "       [ 40., -45.]]), None)"
      ]
     },
     "execution_count": 56,
     "metadata": {},
     "output_type": "execute_result"
    }
   ],
   "source": []
  },
  {
   "cell_type": "code",
   "execution_count": 54,
   "metadata": {},
   "outputs": [
    {
     "data": {
      "image/png": "[encoded data removed]",
      "text/plain": [
       "<matplotlib.figure.Figure at 0x119b39dd0>"
      ]
     },
     "metadata": {},
     "output_type": "display_data"
    }
   ],
   "source": [
    "plt.show(plt.scatter(lon,lat))"
   ]
  },
  {
   "cell_type": "code",
   "execution_count": null,
   "metadata": {
    "collapsed": true
   },
   "outputs": [],
   "source": []
  }
 ],
 "metadata": {
  "kernelspec": {
   "display_name": "Python 2",
   "language": "python",
   "name": "python2"
  },
  "language_info": {
   "codemirror_mode": {
    "name": "ipython",
    "version": 2
   },
   "file_extension": ".py",
   "mimetype": "text/x-python",
   "name": "python",
   "nbconvert_exporter": "python",
   "pygments_lexer": "ipython2",
   "version": "2.7.13"
  }
 },
 "nbformat": 4,
 "nbformat_minor": 2
}
